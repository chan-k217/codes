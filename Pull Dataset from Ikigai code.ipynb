{
 "cells": [
  {
   "cell_type": "code",
   "execution_count": 1,
   "id": "18ce58bd",
   "metadata": {},
   "outputs": [],
   "source": [
    "def get_dataset(dataset_id):\n",
    "    '''\n",
    "    Read data from Ikigai datasets\n",
    "    Make sure the aisuccess account has the access to the project/dataset\n",
    "    Input the dataset_id as string from the url for ex: https://app.ikigailabs.io/dataset/2WqVuoVMjK014lMUTWOpinoNqut\n",
    "    '''\n",
    "    import requests\n",
    "    import pandas as pd\n",
    "    url = \"https://second-api.ikigailabs.io/pypr/get-dataset-download-url?dataset_id=\" + dataset_id\n",
    "    headers = {\n",
    "            'User': 'aisuccess@ikigailabs.io',\n",
    "            'api-key': '2WqTom16Vir5MTPaM3C412H0Gcy'\n",
    "            }\n",
    "\n",
    "    response = requests.request(\"GET\", url, headers=headers)\n",
    "    #print(response)\n",
    "    data = pd.read_csv(response.json()['url'], low_memory = False)\n",
    "    return data"
   ]
  },
  {
   "cell_type": "code",
   "execution_count": 2,
   "id": "0733d119",
   "metadata": {},
   "outputs": [
    {
     "name": "stdout",
     "output_type": "stream",
     "text": [
      "Help on function get_dataset in module __main__:\n",
      "\n",
      "get_dataset(dataset_id)\n",
      "    Read data from Ikigai datasets\n",
      "    Make sure the aisuccess account has the access to the project/dataset\n",
      "    Input the dataset_id as string from the url for ex: https://app.ikigailabs.io/dataset/2WqVuoVMjK014lMUTWOpinoNqut\n",
      "\n"
     ]
    }
   ],
   "source": [
    "help(get_dataset)"
   ]
  },
  {
   "cell_type": "code",
   "execution_count": 4,
   "id": "588f8118",
   "metadata": {},
   "outputs": [],
   "source": [
    "#df1 = get_dataset(dataset_id as string)\n",
    "sanitized_users = get_dataset('2WqVuoVMjK014lMUTWOpinoNqut') # input the dataset_id as string from the url for ex: https://app.ikigailabs.io/dataset/2WqVuoVMjK014lMUTWOpinoNqut"
   ]
  },
  {
   "cell_type": "code",
   "execution_count": 6,
   "id": "b49741eb",
   "metadata": {},
   "outputs": [
    {
     "data": {
      "text/html": [
       "<div>\n",
       "<style scoped>\n",
       "    .dataframe tbody tr th:only-of-type {\n",
       "        vertical-align: middle;\n",
       "    }\n",
       "\n",
       "    .dataframe tbody tr th {\n",
       "        vertical-align: top;\n",
       "    }\n",
       "\n",
       "    .dataframe thead th {\n",
       "        text-align: right;\n",
       "    }\n",
       "</style>\n",
       "<table border=\"1\" class=\"dataframe\">\n",
       "  <thead>\n",
       "    <tr style=\"text-align: right;\">\n",
       "      <th></th>\n",
       "      <th>user_id</th>\n",
       "      <th>location_id</th>\n",
       "      <th>location_name</th>\n",
       "      <th>department_id</th>\n",
       "      <th>position_id</th>\n",
       "      <th>name</th>\n",
       "    </tr>\n",
       "  </thead>\n",
       "  <tbody>\n",
       "    <tr>\n",
       "      <th>0</th>\n",
       "      <td>373806</td>\n",
       "      <td>471</td>\n",
       "      <td>General Hospital 1</td>\n",
       "      <td>1209</td>\n",
       "      <td>[130296, 133495, 6948]</td>\n",
       "      <td>Mrs. Jon Baumbach</td>\n",
       "    </tr>\n",
       "    <tr>\n",
       "      <th>1</th>\n",
       "      <td>58604</td>\n",
       "      <td>1954</td>\n",
       "      <td>Recovery Centre</td>\n",
       "      <td>4014</td>\n",
       "      <td>[24365, 24380]</td>\n",
       "      <td>Mrs. Audrea Terry</td>\n",
       "    </tr>\n",
       "  </tbody>\n",
       "</table>\n",
       "</div>"
      ],
      "text/plain": [
       "   user_id  location_id       location_name  department_id  \\\n",
       "0   373806          471  General Hospital 1           1209   \n",
       "1    58604         1954     Recovery Centre           4014   \n",
       "\n",
       "              position_id               name  \n",
       "0  [130296, 133495, 6948]  Mrs. Jon Baumbach  \n",
       "1          [24365, 24380]  Mrs. Audrea Terry  "
      ]
     },
     "execution_count": 6,
     "metadata": {},
     "output_type": "execute_result"
    }
   ],
   "source": [
    "sanitized_users.head(2)"
   ]
  },
  {
   "cell_type": "code",
   "execution_count": null,
   "id": "e11c00d7",
   "metadata": {},
   "outputs": [],
   "source": []
  }
 ],
 "metadata": {
  "kernelspec": {
   "display_name": "Python 3 (ipykernel)",
   "language": "python",
   "name": "python3"
  },
  "language_info": {
   "codemirror_mode": {
    "name": "ipython",
    "version": 3
   },
   "file_extension": ".py",
   "mimetype": "text/x-python",
   "name": "python",
   "nbconvert_exporter": "python",
   "pygments_lexer": "ipython3",
   "version": "3.11.5"
  }
 },
 "nbformat": 4,
 "nbformat_minor": 5
}
